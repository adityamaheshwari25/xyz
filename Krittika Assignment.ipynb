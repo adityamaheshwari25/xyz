{
 "cells": [
  {
   "cell_type": "markdown",
   "metadata": {},
   "source": [
    "# QUESTION 1"
   ]
  },
  {
   "cell_type": "code",
   "execution_count": 1,
   "metadata": {},
   "outputs": [],
   "source": [
    "import pandas as pd"
   ]
  },
  {
   "cell_type": "code",
   "execution_count": 2,
   "metadata": {},
   "outputs": [],
   "source": [
    "import matplotlib.pyplot as plt\n",
    "import numpy as np"
   ]
  },
  {
   "cell_type": "code",
   "execution_count": 3,
   "metadata": {},
   "outputs": [],
   "source": [
    "file1 = pd.read_csv(\"https://raw.githubusercontent.com/krittikaiitb/2021_convener_selection/main/Dataset_Q1.csv\")"
   ]
  },
  {
   "cell_type": "code",
   "execution_count": 4,
   "metadata": {},
   "outputs": [
    {
     "name": "stdout",
     "output_type": "stream",
     "text": [
      "   #Sr.No. Name  Roll Number Have you attended Krittika events Before?\n",
      "0        1  abc     20000003                                       Yes\n",
      "1        2  def     20000006                                        No\n",
      "2        3  ghi     20010000                                        No\n",
      "3        4  jkl     19020000                                       Yes\n",
      "4        5  lmn     20000304                                        No\n"
     ]
    }
   ],
   "source": [
    "print (file1)"
   ]
  },
  {
   "cell_type": "code",
   "execution_count": 9,
   "metadata": {
    "scrolled": true
   },
   "outputs": [
    {
     "name": "stdout",
     "output_type": "stream",
     "text": [
      "   #Sr.No. Name  Roll Number Have you attended Krittika events Before?\n",
      "0        1  abc     20000003                                       Yes\n",
      "1        2  def     20000006                                        No\n",
      "2        3  ghi     20010000                                        No\n",
      "3        4  jkl     19020000                                       Yes\n",
      "4        5  lmn     20000304                                        No\n"
     ]
    }
   ],
   "source": [
    "print (file1.head())"
   ]
  },
  {
   "cell_type": "code",
   "execution_count": 10,
   "metadata": {},
   "outputs": [
    {
     "name": "stdout",
     "output_type": "stream",
     "text": [
      "[[1 'abc' 20000003 'Yes']\n",
      " [2 'def' 20000006 'No']\n",
      " [3 'ghi' 20010000 'No']\n",
      " [4 'jkl' 19020000 'Yes']\n",
      " [5 'lmn' 20000304 'No']]\n"
     ]
    }
   ],
   "source": [
    "arr = file1.to_numpy()\n",
    "\n",
    "print(arr)"
   ]
  },
  {
   "cell_type": "code",
   "execution_count": 11,
   "metadata": {},
   "outputs": [],
   "source": [
    "def get_emails(files):\n",
    "    emails = ''\n",
    "    for i in range(len(file1.index)-1):\n",
    "        emails = emails + str(arr[i,2]) + '@iitb.ac.in, '\n",
    "    emails = emails + str(arr[len(file1.index)-1,2]) + '@iitb.ac.in' \n",
    "    print(emails)"
   ]
  },
  {
   "cell_type": "code",
   "execution_count": 12,
   "metadata": {},
   "outputs": [
    {
     "name": "stdout",
     "output_type": "stream",
     "text": [
      "20000003@iitb.ac.in, 20000006@iitb.ac.in, 20010000@iitb.ac.in, 19020000@iitb.ac.in, 20000304@iitb.ac.in\n"
     ]
    }
   ],
   "source": [
    "get_emails(arr)"
   ]
  },
  {
   "cell_type": "markdown",
   "metadata": {},
   "source": [
    "# QUESTION 2"
   ]
  },
  {
   "cell_type": "code",
   "execution_count": 5,
   "metadata": {},
   "outputs": [
    {
     "name": "stdout",
     "output_type": "stream",
     "text": [
      "   # mass(in EndorMasses)  Time Period(in EndorDays)  \\\n",
      "0                  0.0100                      60.01   \n",
      "1                  0.0040                     115.62   \n",
      "2                  0.0033                     237.53   \n",
      "3                  0.0015                      35.57   \n",
      "4                  0.0070                     180.63   \n",
      "\n",
      "   Semimajor axis(in EndorRadii)  \n",
      "0                      81.837252  \n",
      "1                     108.672544  \n",
      "2                     143.725178  \n",
      "3                      68.362591  \n",
      "4                     127.421197  \n"
     ]
    }
   ],
   "source": [
    "df = pd.read_csv(\"https://raw.githubusercontent.com/krittikaiitb/2021_convener_selection/main/Dataset_Q2.csv\")\n",
    "print (df.head())"
   ]
  },
  {
   "cell_type": "code",
   "execution_count": 7,
   "metadata": {},
   "outputs": [
    {
     "data": {
      "text/plain": [
       "['# mass(in EndorMasses)']"
      ]
     },
     "execution_count": 7,
     "metadata": {},
     "output_type": "execute_result"
    }
   ],
   "source": [
    "df.columns[2]\n",
    "[df.columns[0]]"
   ]
  },
  {
   "cell_type": "code",
   "execution_count": 14,
   "metadata": {},
   "outputs": [
    {
     "data": {
      "text/html": [
       "<div>\n",
       "<style scoped>\n",
       "    .dataframe tbody tr th:only-of-type {\n",
       "        vertical-align: middle;\n",
       "    }\n",
       "\n",
       "    .dataframe tbody tr th {\n",
       "        vertical-align: top;\n",
       "    }\n",
       "\n",
       "    .dataframe thead th {\n",
       "        text-align: right;\n",
       "    }\n",
       "</style>\n",
       "<table border=\"1\" class=\"dataframe\">\n",
       "  <thead>\n",
       "    <tr style=\"text-align: right;\">\n",
       "      <th></th>\n",
       "      <th>y</th>\n",
       "      <th>x1</th>\n",
       "      <th>x2</th>\n",
       "    </tr>\n",
       "  </thead>\n",
       "  <tbody>\n",
       "    <tr>\n",
       "      <th>0</th>\n",
       "      <td>4.404733</td>\n",
       "      <td>4.094511</td>\n",
       "      <td>0.009950</td>\n",
       "    </tr>\n",
       "    <tr>\n",
       "      <th>1</th>\n",
       "      <td>4.688339</td>\n",
       "      <td>4.750309</td>\n",
       "      <td>0.003992</td>\n",
       "    </tr>\n",
       "    <tr>\n",
       "      <th>2</th>\n",
       "      <td>4.967903</td>\n",
       "      <td>5.470294</td>\n",
       "      <td>0.003295</td>\n",
       "    </tr>\n",
       "    <tr>\n",
       "      <th>3</th>\n",
       "      <td>4.224826</td>\n",
       "      <td>3.571503</td>\n",
       "      <td>0.001499</td>\n",
       "    </tr>\n",
       "    <tr>\n",
       "      <th>4</th>\n",
       "      <td>4.847498</td>\n",
       "      <td>5.196451</td>\n",
       "      <td>0.006976</td>\n",
       "    </tr>\n",
       "    <tr>\n",
       "      <th>5</th>\n",
       "      <td>5.122151</td>\n",
       "      <td>5.885798</td>\n",
       "      <td>0.000890</td>\n",
       "    </tr>\n",
       "    <tr>\n",
       "      <th>6</th>\n",
       "      <td>4.513917</td>\n",
       "      <td>4.337291</td>\n",
       "      <td>0.073250</td>\n",
       "    </tr>\n",
       "    <tr>\n",
       "      <th>7</th>\n",
       "      <td>3.669922</td>\n",
       "      <td>2.349469</td>\n",
       "      <td>0.020783</td>\n",
       "    </tr>\n",
       "    <tr>\n",
       "      <th>8</th>\n",
       "      <td>5.206594</td>\n",
       "      <td>6.111046</td>\n",
       "      <td>0.009059</td>\n",
       "    </tr>\n",
       "  </tbody>\n",
       "</table>\n",
       "</div>"
      ],
      "text/plain": [
       "          y        x1        x2\n",
       "0  4.404733  4.094511  0.009950\n",
       "1  4.688339  4.750309  0.003992\n",
       "2  4.967903  5.470294  0.003295\n",
       "3  4.224826  3.571503  0.001499\n",
       "4  4.847498  5.196451  0.006976\n",
       "5  5.122151  5.885798  0.000890\n",
       "6  4.513917  4.337291  0.073250\n",
       "7  3.669922  2.349469  0.020783\n",
       "8  5.206594  6.111046  0.009059"
      ]
     },
     "execution_count": 14,
     "metadata": {},
     "output_type": "execute_result"
    }
   ],
   "source": [
    "df2 = pd.DataFrame()\n",
    "df2['y'] = np.log(df[df.columns[2]])\n",
    "df2['x1'] = np.log(df[df.columns[1]])\n",
    "df2['x2'] = np.log(df[df.columns[0]] + 1 )\n",
    "df2"
   ]
  },
  {
   "cell_type": "code",
   "execution_count": 15,
   "metadata": {},
   "outputs": [
    {
     "data": {
      "text/plain": [
       "array([0.40500293, 2.74780656])"
      ]
     },
     "execution_count": 15,
     "metadata": {},
     "output_type": "execute_result"
    }
   ],
   "source": [
    "#Neglecting x2 as it is quite small\n",
    "x = df2['x1']\n",
    "y = df2['y']\n",
    "coeffs = np.polyfit(x,y,1)\n",
    "coeffs # prints highest degree coeff first"
   ]
  },
  {
   "cell_type": "code",
   "execution_count": 16,
   "metadata": {},
   "outputs": [
    {
     "name": "stdout",
     "output_type": "stream",
     "text": [
      "x =  2.4691179509812913\n"
     ]
    }
   ],
   "source": [
    "print('x = ',1/coeffs[0])"
   ]
  },
  {
   "cell_type": "code",
   "execution_count": 17,
   "metadata": {},
   "outputs": [
    {
     "data": {
      "image/png": "[encoded data removed]",
      "text/plain": [
       "<Figure size 432x288 with 1 Axes>"
      ]
     },
     "metadata": {
      "needs_background": "light"
     },
     "output_type": "display_data"
    }
   ],
   "source": [
    "plt.plot(x, y, 'kx')\n",
    "y2 = np.polyval(coeffs, x)\n",
    "plt.plot(x, y2)\n",
    "plt.show()"
   ]
  },
  {
   "cell_type": "code",
   "execution_count": 18,
   "metadata": {},
   "outputs": [
    {
     "name": "stdout",
     "output_type": "stream",
     "text": [
      "x =  2.4633804706084583\n"
     ]
    }
   ],
   "source": [
    "#Taking both x1, x2 for multivariable curve fit\n",
    "import numpy as np\n",
    "from scipy.optimize import curve_fit\n",
    "\n",
    "def func(X, a, b):\n",
    "    x1,x2 = X\n",
    "    return a*x1 + 0.5*a*x2 + b\n",
    "\n",
    "x1 = df2['x1']\n",
    "x2 = df2['x2']\n",
    "y = df2['y']\n",
    "\n",
    "# initial guesses for a,b:\n",
    "p0 = 8., 2.\n",
    "coeffs, _ = (curve_fit(func, (x1,x2), y, p0))\n",
    "print('x = ' , 1/coeffs[0])"
   ]
  },
  {
   "cell_type": "code",
   "execution_count": 19,
   "metadata": {},
   "outputs": [
    {
     "name": "stdout",
     "output_type": "stream",
     "text": [
      "G in terms of M =  28848325.8573043\n"
     ]
    }
   ],
   "source": [
    "#finding G using the constant term\n",
    "x = 1/coeffs[0]\n",
    "b = coeffs[1]\n",
    "MG = (np.exp(2*x*b)*4*np.pi*np.pi)\n",
    "print('G in terms of M = ', MG)"
   ]
  },
  {
   "cell_type": "markdown",
   "metadata": {},
   "source": [
    "# So G = 28848325.857/M"
   ]
  }
 ],
 "metadata": {
  "kernelspec": {
   "display_name": "Python 3",
   "language": "python",
   "name": "python3"
  },
  "language_info": {
   "codemirror_mode": {
    "name": "ipython",
    "version": 3
   },
   "file_extension": ".py",
   "mimetype": "text/x-python",
   "name": "python",
   "nbconvert_exporter": "python",
   "pygments_lexer": "ipython3",
   "version": "3.8.5"
  }
 },
 "nbformat": 4,
 "nbformat_minor": 4
}
